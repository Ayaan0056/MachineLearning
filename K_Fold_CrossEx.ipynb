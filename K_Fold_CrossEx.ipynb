{
 "cells": [
  {
   "cell_type": "code",
   "execution_count": 26,
   "metadata": {},
   "outputs": [],
   "source": [
    "#Importing Required Packages \n",
    "from sklearn.datasets import load_iris\n",
    "from sklearn.model_selection import train_test_split \n",
    "import numpy as np\n",
    "\n",
    "#Importing Models \n",
    "from sklearn import tree\n",
    "from sklearn.ensemble import RandomForestClassifier\n",
    "from sklearn.svm import SVC\n",
    "from sklearn.linear_model import LogisticRegression\n",
    "from sklearn.linear_model import LinearRegression"
   ]
  },
  {
   "cell_type": "code",
   "execution_count": 7,
   "metadata": {},
   "outputs": [
    {
     "data": {
      "text/plain": [
       "['DESCR',\n",
       " 'data',\n",
       " 'data_module',\n",
       " 'feature_names',\n",
       " 'filename',\n",
       " 'frame',\n",
       " 'target',\n",
       " 'target_names']"
      ]
     },
     "execution_count": 7,
     "metadata": {},
     "output_type": "execute_result"
    }
   ],
   "source": [
    "iris = load_iris()\n",
    "dir(iris)"
   ]
  },
  {
   "cell_type": "code",
   "execution_count": 31,
   "metadata": {},
   "outputs": [
    {
     "name": "stdout",
     "output_type": "stream",
     "text": [
      "Decision Tree Model Score: 0.9333333333333333\n",
      "Random Forest Model Score: 0.9333333333333333\n",
      "Support Vector Model Score: 0.26666666666666666\n",
      "Logistic Regression Model Score: 0.9333333333333333\n",
      "Linear Regression Model Score: 0.9243330841383582\n"
     ]
    }
   ],
   "source": [
    "#Individual Model Performance \n",
    "\n",
    "x = iris.data\n",
    "y=iris.target\n",
    "\n",
    "train_x, test_x, train_y, test_y = train_test_split(x,y, test_size=0.2)\n",
    "\n",
    "#Decision Tree Model \n",
    "model_dt = tree.DecisionTreeClassifier()\n",
    "model_dt.fit(train_x, train_y)\n",
    "print(\"Decision Tree Model Score:\", model_dt.score(test_x,test_y))\n",
    "\n",
    "#Random Forest Model \n",
    "model_rf = RandomForestClassifier(n_estimators=40)\n",
    "model_rf.fit(train_x, train_y)\n",
    "print(\"Random Forest Model Score:\", model_rf.score(test_x,test_y))\n",
    "\n",
    "#Support Vector Model \n",
    "model_svc = SVC(C=10, gamma=40, kernel='sigmoid')\n",
    "model_svc.fit(train_x, train_y)\n",
    "print(\"Support Vector Model Score:\", model_svc.score(test_x,test_y))\n",
    "\n",
    "#Logistic Regression Model \n",
    "model_lr = LogisticRegression(solver='liblinear', multi_class='ovr')\n",
    "model_lr.fit(train_x, train_y)\n",
    "print(\"Logistic Regression Model Score:\", model_lr.score(test_x,test_y))\n",
    "\n",
    "#Linear Refression Model \n",
    "model_li = LinearRegression()\n",
    "model_li.fit(train_x, train_y)\n",
    "print(\"Linear Regression Model Score:\",model_li.score(test_x, test_y))"
   ]
  },
  {
   "cell_type": "markdown",
   "metadata": {},
   "source": [
    "KFOLD"
   ]
  },
  {
   "cell_type": "code",
   "execution_count": 33,
   "metadata": {},
   "outputs": [
    {
     "name": "stdout",
     "output_type": "stream",
     "text": [
      "Decision Tree Model Score: 0.8922475106685632\n",
      "Random Forest Model Score: 0.89900426742532\n",
      "Support Vector Model Score  0.2932076813655761\n",
      "Logistic Regression Model Score: 0.6308677098150781\n",
      "Linear Regression Model Score: 0.344361710205904\n"
     ]
    }
   ],
   "source": [
    "#Individual Model Performance using KFold Validation  \n",
    "from sklearn.model_selection import KFold\n",
    "\n",
    "#Function which returns score if the Model \n",
    "def get_score(model, xtrain, xtest, ytrain, ytest):\n",
    "    model.fit(xtrain, ytrain)\n",
    "    return model.score(xtest, ytest)\n",
    "\n",
    "kf = KFold(n_splits=4)\n",
    "\n",
    "score_dt = []\n",
    "score_rf = []\n",
    "score_svc =[]\n",
    "score_lr = []\n",
    "score_li = []\n",
    "\n",
    "for train_index, test_index in kf.split(iris.data, iris.target):\n",
    "    train_x, test_x, train_y, test_y = iris.data[train_index], iris.data[test_index], iris.target[train_index], iris.target[test_index]\n",
    "\n",
    "    score_dt.append(get_score(tree.DecisionTreeClassifier(),train_x, test_x, train_y, test_y))\n",
    "    score_rf.append(get_score(RandomForestClassifier(n_estimators=40),train_x, test_x, train_y, test_y))\n",
    "    score_svc.append(get_score(SVC(C=10, gamma=40, kernel='rbf'), train_x, test_x, train_y, test_y))\n",
    "    score_lr.append(get_score(LogisticRegression(solver='liblinear', multi_class='ovr'), train_x, test_x, train_y, test_y))\n",
    "    score_li.append(get_score(LinearRegression(), train_x, test_x, train_y, test_y))\n",
    "\n",
    "print(\"Decision Tree Model Score:\", np.average(score_dt))\n",
    "print(\"Random Forest Model Score:\", np.average(score_rf))\n",
    "print(\"Support Vector Model Score \", np.average(score_svc))\n",
    "print(\"Logistic Regression Model Score:\", np.average(score_lr))\n",
    "print(\"Linear Regression Model Score:\",np.average(score_li))"
   ]
  },
  {
   "cell_type": "markdown",
   "metadata": {},
   "source": [
    "CROSS VALIDATION SCORE "
   ]
  },
  {
   "cell_type": "code",
   "execution_count": 34,
   "metadata": {},
   "outputs": [
    {
     "name": "stdout",
     "output_type": "stream",
     "text": [
      "Average Score of Decision Tree Model: 0.9667496443812233\n",
      "Average Score of Random Forest Model: 0.9667496443812233\n",
      "Average Score of Support Vector Model: 0.9667496443812233\n",
      "Average Score of Logistic Regression Model: 0.9667496443812233\n",
      "Average Score of Linear Regression Model: 0.344361710205904\n"
     ]
    }
   ],
   "source": [
    "from sklearn.model_selection import cross_val_score\n",
    "\n",
    "x = iris.data\n",
    "y = iris.target \n",
    "\n",
    "score_dt = []\n",
    "score_rf = []\n",
    "score_svc =[]\n",
    "score_lr = []\n",
    "score_li = []\n",
    "\n",
    "#Decision Tree\n",
    "score_dt.append(cross_val_score(tree.DecisionTreeClassifier(), x, y, cv=4))\n",
    "\n",
    "#Random Forest  \n",
    "score_rf.append(cross_val_score(RandomForestClassifier(n_estimators=40), x, y, cv=4))\n",
    "\n",
    "#Support Vector \n",
    "score_svc.append(cross_val_score(SVC(C=1, gamma=30), x, y, cv=4))\n",
    "\n",
    "#Logistic Regression \n",
    "score_lr.append(cross_val_score(LogisticRegression(solver='liblinear', multi_class='ovr'), x, y, cv=4))\n",
    "\n",
    "#Linear Regression \n",
    "score_li.append(cross_val_score(LinearRegression(), x, y, cv=4))\n",
    "\n",
    "print(\"Average Score of Decision Tree Model:\",np.average(score_dt))\n",
    "print(\"Average Score of Random Forest Model:\",np.average(score_dt))\n",
    "print(\"Average Score of Support Vector Model:\",np.average(score_dt))\n",
    "print(\"Average Score of Logistic Regression Model:\",np.average(score_dt))\n",
    "print(\"Average Score of Linear Regression Model:\",np.average(score_li))"
   ]
  }
 ],
 "metadata": {
  "kernelspec": {
   "display_name": "Python 3",
   "language": "python",
   "name": "python3"
  },
  "language_info": {
   "codemirror_mode": {
    "name": "ipython",
    "version": 3
   },
   "file_extension": ".py",
   "mimetype": "text/x-python",
   "name": "python",
   "nbconvert_exporter": "python",
   "pygments_lexer": "ipython3",
   "version": "3.11.4"
  }
 },
 "nbformat": 4,
 "nbformat_minor": 2
}
